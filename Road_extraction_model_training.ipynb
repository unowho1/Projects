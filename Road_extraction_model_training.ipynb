{
 "cells": [
  {
   "cell_type": "code",
   "execution_count": null,
   "id": "bf14eb19",
   "metadata": {
    "id": "bf14eb19"
   },
   "outputs": [],
   "source": [
    "import os\n",
    "import sys\n",
    "import numpy as np\n",
    "import re\n",
    "import cv2\n",
    "import matplotlib.pyplot as plt\n",
    "import tensorflow as tf"
   ]
  },
  {
   "cell_type": "code",
   "execution_count": null,
   "id": "VzW-qZSjm93P",
   "metadata": {
    "id": "VzW-qZSjm93P"
   },
   "outputs": [],
   "source": [
    "from google.colab import drive\n",
    "drive.mount('/content/drive')"
   ]
  },
  {
   "cell_type": "code",
   "execution_count": null,
   "id": "2b671c62",
   "metadata": {
    "id": "2b671c62"
   },
   "outputs": [],
   "source": [
    "framObjTrain = {'img' : [],\n",
    "           'mask' : []\n",
    "          }\n",
    "\n",
    "def LoadData( frameObj = None, imgPath = None, maskPath = None, shape = 128):\n",
    "    imgNames = os.listdir(imgPath)\n",
    "    maskNames = []\n",
    "    \n",
    "    for mem in imgNames:\n",
    "        mem = mem.split('_')[0]\n",
    "        if mem not in maskNames:\n",
    "            maskNames.append(mem)\n",
    "    \n",
    "    imgAddr = imgPath + '/'\n",
    "    maskAddr = maskPath + '/'\n",
    "    \n",
    "    for i in range (len(imgNames)):\n",
    "        try:\n",
    "            img = plt.imread(imgAddr + maskNames[i] + '_sat.jpg')\n",
    "            mask = plt.imread(maskAddr + maskNames[i] + '_mask.png')\n",
    "            \n",
    "        except:\n",
    "            continue\n",
    "        img = cv2.resize(img, (shape, shape))\n",
    "        mask = cv2.resize(mask, (shape, shape))\n",
    "        frameObj['img'].append(img)\n",
    "        frameObj['mask'].append(mask[:,:,0])\n",
    "        \n",
    "    return frameObj"
   ]
  },
  {
   "cell_type": "code",
   "execution_count": null,
   "id": "8e505412",
   "metadata": {
    "id": "8e505412"
   },
   "outputs": [],
   "source": [
    "def Conv2dBlock(inputTensor, numFilters, kernelSize = 3, doBatchNorm = True):\n",
    "    x = tf.keras.layers.Conv2D(filters = numFilters, kernel_size = (kernelSize, kernelSize),\n",
    "                              kernel_initializer = 'he_normal', padding = 'same') (inputTensor)\n",
    "    \n",
    "    if doBatchNorm:\n",
    "        x = tf.keras.layers.BatchNormalization()(x)\n",
    "        \n",
    "    x =tf.keras.layers.Activation('relu')(x)\n",
    "    \n",
    "\n",
    "    x = tf.keras.layers.Conv2D(filters = numFilters, kernel_size = (kernelSize, kernelSize),\n",
    "                              kernel_initializer = 'he_normal', padding = 'same') (x)\n",
    "    if doBatchNorm:\n",
    "        x = tf.keras.layers.BatchNormalization()(x)\n",
    "        \n",
    "    x = tf.keras.layers.Activation('relu')(x)\n",
    "    \n",
    "    return x\n",
    "\n",
    "def GiveMeUnet(inputImage, numFilters = 16, droupouts = 0.1, doBatchNorm = True):\n",
    "    # encoder\n",
    "    c1 = Conv2dBlock(inputImage, numFilters * 1, kernelSize = 3, doBatchNorm = doBatchNorm)\n",
    "    p1 = tf.keras.layers.MaxPooling2D((2,2))(c1)\n",
    "    p1 = tf.keras.layers.Dropout(droupouts)(p1)\n",
    "    \n",
    "    c2 = Conv2dBlock(p1, numFilters * 2, kernelSize = 3, doBatchNorm = doBatchNorm)\n",
    "    p2 = tf.keras.layers.MaxPooling2D((2,2))(c2)\n",
    "    p2 = tf.keras.layers.Dropout(droupouts)(p2)\n",
    "    \n",
    "    c3 = Conv2dBlock(p2, numFilters * 4, kernelSize = 3, doBatchNorm = doBatchNorm)\n",
    "    p3 = tf.keras.layers.MaxPooling2D((2,2))(c3)\n",
    "    p3 = tf.keras.layers.Dropout(droupouts)(p3)\n",
    "    \n",
    "    c4 = Conv2dBlock(p3, numFilters * 8, kernelSize = 3, doBatchNorm = doBatchNorm)\n",
    "    p4 = tf.keras.layers.MaxPooling2D((2,2))(c4)\n",
    "    p4 = tf.keras.layers.Dropout(droupouts)(p4)\n",
    "    \n",
    "    c5 = Conv2dBlock(p4, numFilters * 16, kernelSize = 3, doBatchNorm = doBatchNorm)\n",
    "\n",
    "    # decoder\n",
    "    \n",
    "    u6 = tf.keras.layers.Conv2DTranspose(numFilters*8, (3, 3), strides = (2, 2), padding = 'same')(c5)\n",
    "    u6 = tf.keras.layers.concatenate([u6, c4])\n",
    "    u6 = tf.keras.layers.Dropout(droupouts)(u6)\n",
    "    c6 = Conv2dBlock(u6, numFilters * 8, kernelSize = 3, doBatchNorm = doBatchNorm)\n",
    "    \n",
    "    u7 = tf.keras.layers.Conv2DTranspose(numFilters*4, (3, 3), strides = (2, 2), padding = 'same')(c6)\n",
    "    u7 = tf.keras.layers.concatenate([u7, c3])\n",
    "    u7 = tf.keras.layers.Dropout(droupouts)(u7)\n",
    "    c7 = Conv2dBlock(u7, numFilters * 4, kernelSize = 3, doBatchNorm = doBatchNorm)\n",
    "    \n",
    "    u8 = tf.keras.layers.Conv2DTranspose(numFilters*2, (3, 3), strides = (2, 2), padding = 'same')(c7)\n",
    "    u8 = tf.keras.layers.concatenate([u8, c2])\n",
    "    u8 = tf.keras.layers.Dropout(droupouts)(u8)\n",
    "    c8 = Conv2dBlock(u8, numFilters * 2, kernelSize = 3, doBatchNorm = doBatchNorm)\n",
    "    \n",
    "    u9 = tf.keras.layers.Conv2DTranspose(numFilters*1, (3, 3), strides = (2, 2), padding = 'same')(c8)\n",
    "    u9 = tf.keras.layers.concatenate([u9, c1])\n",
    "    u9 = tf.keras.layers.Dropout(droupouts)(u9)\n",
    "    c9 = Conv2dBlock(u9, numFilters * 1, kernelSize = 3, doBatchNorm = doBatchNorm)\n",
    "    \n",
    "    output = tf.keras.layers.Conv2D(1, (1, 1), activation = 'sigmoid')(c9)\n",
    "    model = tf.keras.Model(inputs = [inputImage], outputs = [output])\n",
    "    return model"
   ]
  },
  {
   "cell_type": "code",
   "execution_count": null,
   "id": "d6586f7c",
   "metadata": {
    "id": "d6586f7c"
   },
   "outputs": [],
   "source": [
    "inputs = tf.keras.layers.Input((128, 128, 3))\n",
    "unet = GiveMeUnet(inputs, droupouts= 0.07)\n",
    "unet.compile(optimizer = 'Adam', loss = 'binary_crossentropy', metrics = ['accuracy'] )"
   ]
  },
  {
   "cell_type": "code",
   "execution_count": null,
   "id": "604df7da",
   "metadata": {
    "id": "604df7da"
   },
   "outputs": [],
   "source": [
    "framObjTrain = LoadData( framObjTrain, imgPath = '/content/drive/MyDrive/Dataset/train', \n",
    "                        maskPath = '/content/drive/MyDrive/Dataset/train'\n",
    "                         , shape = 128)"
   ]
  },
  {
   "cell_type": "code",
   "execution_count": null,
   "id": "c1c9d9fc",
   "metadata": {
    "id": "c1c9d9fc"
   },
   "outputs": [],
   "source": [
    "retVal = unet.fit(np.array(framObjTrain['img']), np.array(framObjTrain['mask']), epochs = 60, verbose = 1)"
   ]
  },
  {
   "cell_type": "code",
   "execution_count": null,
   "id": "911633f9",
   "metadata": {
    "colab": {
     "base_uri": "https://localhost:8080/",
     "height": 430
    },
    "id": "911633f9",
    "outputId": "5a8dc7f8-6276-45af-c00f-22e3d728f934"
   },
   "outputs": [
    {
     "data": {
      "image/png": "[encoded data removed]",
      "text/plain": [
       "<Figure size 640x480 with 1 Axes>"
      ]
     },
     "metadata": {},
     "output_type": "display_data"
    }
   ],
   "source": [
    "plt.plot(retVal.history['loss'], label = 'training_loss')\n",
    "plt.plot(retVal.history['accuracy'], label = 'training_accuracy')\n",
    "plt.legend()\n",
    "plt.grid(True)"
   ]
  },
  {
   "cell_type": "code",
   "execution_count": null,
   "id": "e94304bc",
   "metadata": {
    "id": "e94304bc"
   },
   "outputs": [],
   "source": [
    "unet.save('Model.h5')"
   ]
  },
  {
   "cell_type": "code",
   "execution_count": null,
   "id": "540128f3",
   "metadata": {
    "id": "540128f3"
   },
   "outputs": [],
   "source": [
    "import os\n",
    "f=\"Model.h5\"\n",
    "print(os.path.abspath(f),\"hl\")"
   ]
  }
 ],
 "metadata": {
  "accelerator": "TPU",
  "colab": {
   "provenance": []
  },
  "gpuClass": "standard",
  "kernelspec": {
   "display_name": "Python 3 (ipykernel)",
   "language": "python",
   "name": "python3"
  },
  "language_info": {
   "codemirror_mode": {
    "name": "ipython",
    "version": 3
   },
   "file_extension": ".py",
   "mimetype": "text/x-python",
   "name": "python",
   "nbconvert_exporter": "python",
   "pygments_lexer": "ipython3",
   "version": "3.11.1"
  },
  "papermill": {
   "default_parameters": {},
   "duration": 1183.171211,
   "end_time": "2022-10-29T17:50:26.975985",
   "environment_variables": {},
   "exception": null,
   "input_path": "__notebook__.ipynb",
   "output_path": "__notebook__.ipynb",
   "parameters": {},
   "start_time": "2022-10-29T17:30:43.804774",
   "version": "2.3.4"
  }
 },
 "nbformat": 4,
 "nbformat_minor": 5
}
